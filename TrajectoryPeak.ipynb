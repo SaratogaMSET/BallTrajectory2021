{
 "cells": [
  {
   "cell_type": "code",
   "execution_count": null,
   "metadata": {},
   "outputs": [],
   "source": [
    "import math\n",
    "import numpy as np\n",
    "import matplotlib.pyplot as plt\n",
    "import pdb\n",
    "import pandas as pd\n",
    "\n",
    "# all units SI (meters, kg, etc.)\n",
    "distance = 7\n",
    "height = 2.0378\n",
    "m = 0.141748\n",
    "R_l = 0.0508\n",
    "R_u = 0.03175\n",
    "R_b = 0.0889\n",
    "A = 0.0248286665\n",
    "interval = 0.001\n",
    "run = True"
   ]
  },
  {
   "cell_type": "markdown",
   "metadata": {},
   "source": [
    "## Create Functions"
   ]
  },
  {
   "cell_type": "code",
   "execution_count": 59,
   "metadata": {},
   "outputs": [],
   "source": [
    "def iterate():\n",
    "    global run\n",
    "    for w_r in range(20,600): #6380 falcon 500 rpm in radians/s\n",
    "        for theta in range(15,75):\n",
    "            if(run):\n",
    "                trajectory(w_r, theta*math.pi/180)\n",
    "    #print(\"done\")\n",
    "    run = True"
   ]
  },
  {
   "cell_type": "code",
   "execution_count": null,
   "metadata": {},
   "outputs": [],
   "source": [
    "def trajectory(w, theta):\n",
    "    v = (w*R_l + 9/16*w*R_u)/2\n",
    "    #print(v)\n",
    "    s = (w*R_l - 9/16*w*R_u)/(2*math.pi*R_b)\n",
    "    runPath(w,v,s,theta)"
   ]
  },
  {
   "cell_type": "code",
   "execution_count": 60,
   "metadata": {},
   "outputs": [],
   "source": [
    "def runPath(w,v_i,s,theta_i):\n",
    "    t = 0\n",
    "    v_x = v_i*math.cos(theta_i)\n",
    "    v_y = v_i*math.sin(theta_i)\n",
    "    theta = theta_i\n",
    "    x_dist = 0\n",
    "    y_dist = 0\n",
    "    through = True\n",
    "    x = [0]\n",
    "    y = [0]\n",
    "    while(through):\n",
    "        x_dist += v_x*interval\n",
    "        y_dist += v_y*interval\n",
    "        x.append(x_dist)\n",
    "        y.append(y_dist)\n",
    "        v_n = math.sqrt(v_x*v_x + v_y*v_y)\n",
    "        theta = angle(v_x,v_y)\n",
    "     \n",
    "        magnus = magnusF(s, v_n)\n",
    "        drag = dragF(v_n)\n",
    "        v_x -= (magnus*math.sin(theta) + drag*math.cos(theta))*interval\n",
    "        v_y -= (drag*math.sin(theta) + 9.8 - magnus*math.cos(theta))*interval\n",
    "        t += interval\n",
    "        \n",
    "        if(v_y < 0.1 and v_y > -0.1):\n",
    "            if(((x_dist > distance - .01) and (x_dist < distance + .01)) \n",
    "            and ((y_dist > height - .015) and (y_dist < height + .015))):\n",
    "                through = False\n",
    "                global w_min\n",
    "                plt.plot(x,y)\n",
    "                omega_array.append(round(w*60/(2*math.pi),2))\n",
    "                theta_array.append(round(theta_i*180/math.pi,2))\n",
    "                velocity_array.append(round(v_i,2))\n",
    "                spin_array.append(round(s,2))\n",
    "                time_array.append(round(t,3))\n",
    "                print (\"motor_rpm: \" + str(round(w*60/(2*math.pi),2)) + \" angle: \" + str(round(theta_i*180/math.pi,2)))\n",
    "                print(\"velocity: \" + str(round(v_i,2)) + \" spin: \" + str(round(s,2)) + \" time: \" + str(round(t,3)))\n",
    "                print()\n",
    "                global run\n",
    "                run = False\n",
    "  \n",
    "        if(v_y <= -0.15):\n",
    "            through = False\n",
    "      "
   ]
  },
  {
   "cell_type": "code",
   "execution_count": 61,
   "metadata": {},
   "outputs": [],
   "source": [
    "def magnusF(s,v):\n",
    "    return (0.01)*(16/3)*(math.pi*math.pi)*1.229*(R_b**3)*s*v/m\n",
    "def dragF(v):\n",
    "    return (0.47)*(1.229/2)*A*(v**2)/m\n",
    "def angle(x,y):\n",
    "    return math.atan(y/x)"
   ]
  },
  {
   "cell_type": "code",
   "execution_count": 58,
   "metadata": {
    "scrolled": true
   },
   "outputs": [
    {
     "name": "stdout",
     "output_type": "stream",
     "text": [
      "trial: 1 , distance: 2.3\n",
      "trial: 2 , distance: 2.77\n",
      "motor_rpm: 2435.07 angle: 59.0\n",
      "velocity: 8.75 spin: 15.04 time: 0.698\n",
      "\n",
      "trial: 3 , distance: 3.24\n",
      "motor_rpm: 2559.21 angle: 55.0\n",
      "velocity: 9.2 spin: 15.8 time: 0.703\n",
      "\n",
      "trial: 4 , distance: 3.71\n",
      "motor_rpm: 2702.45 angle: 51.0\n",
      "velocity: 9.72 spin: 16.69 time: 0.7\n",
      "\n",
      "trial: 5 , distance: 4.18\n",
      "motor_rpm: 2883.89 angle: 47.0\n",
      "velocity: 10.37 spin: 17.81 time: 0.687\n",
      "\n",
      "trial: 6 , distance: 4.65\n",
      "motor_rpm: 3046.23 angle: 44.0\n",
      "velocity: 10.95 spin: 18.81 time: 0.693\n",
      "\n",
      "trial: 7 , distance: 5.12\n",
      "motor_rpm: 3237.21 angle: 41.0\n",
      "velocity: 11.64 spin: 19.99 time: 0.691\n",
      "\n",
      "trial: 8 , distance: 5.59\n",
      "motor_rpm: 3399.55 angle: 39.0\n",
      "velocity: 12.22 spin: 20.99 time: 0.706\n",
      "\n",
      "trial: 9 , distance: 6.06\n",
      "motor_rpm: 3638.28 angle: 36.0\n",
      "velocity: 13.08 spin: 22.47 time: 0.693\n",
      "\n",
      "trial: 10 , distance: 6.53\n",
      "motor_rpm: 3838.82 angle: 34.0\n",
      "velocity: 13.8 spin: 23.71 time: 0.699\n",
      "\n"
     ]
    },
    {
     "data": {
      "image/png": "[encoded data removed]",
      "text/plain": [
       "<Figure size 432x288 with 1 Axes>"
      ]
     },
     "metadata": {
      "needs_background": "light"
     },
     "output_type": "display_data"
    }
   ],
   "source": [
    "plt.title(\"Peak-Based Ball Trajectory at Varying Distances, \\n$C_l$ = 0.1, $C_f$ = 0.47\")\n",
    "plt.xlabel(\"Distance (m)\")\n",
    "plt.ylabel(\"Height (m)\")\n",
    "\n",
    "plt.rcParams.update({'mathtext.default':  'regular' })\n",
    "\n",
    "trial_array = []\n",
    "distance_array = []\n",
    "omega_array = []\n",
    "theta_array = []\n",
    "velocity_array = []\n",
    "spin_array = []\n",
    "time_array = []\n",
    "max_trials = 10\n",
    "\n",
    "for i in range(0,max_trials):\n",
    "    trial_array.append(i+1)\n",
    "    distance = 2.3 + ((7-2.3) / max_trials)*i\n",
    "    distance_array.append(distance)\n",
    "    print(\"trial: \" + str(i+1) + \" , \" + \"distance: \" + str(round(distance,3)))\n",
    "    iterate()\n",
    "\n",
    "plt.savefig(\"peak_based_\" + str(max_trials) + \"_trials.png\")\n",
    "plt.show()"
   ]
  },
  {
   "cell_type": "code",
   "execution_count": 35,
   "metadata": {
    "scrolled": true
   },
   "outputs": [
    {
     "name": "stdout",
     "output_type": "stream",
     "text": [
      "30\n",
      "30\n",
      "30\n",
      "30\n"
     ]
    }
   ],
   "source": [
    "print(len(trial_array))\n",
    "print(len(distance_array))\n",
    "print(len(omega_array))\n",
    "print(len(theta_array))"
   ]
  },
  {
   "cell_type": "code",
   "execution_count": 25,
   "metadata": {},
   "outputs": [],
   "source": [
    "trial_array.remove()\n",
    "distance_array.remove()"
   ]
  },
  {
   "cell_type": "markdown",
   "metadata": {},
   "source": [
    "## Test"
   ]
  },
  {
   "cell_type": "code",
   "execution_count": 36,
   "metadata": {},
   "outputs": [
    {
     "name": "stdout",
     "output_type": "stream",
     "text": [
      "    Trial  Distance  Angular Velocity  Angle  Velocity   Spin   Time\n",
      "0       1  2.300000           2301.38   61.0      8.27   7.11  0.707\n",
      "1       2  2.456667           2320.48   60.0      8.34   7.17  0.722\n",
      "2       3  2.613333           2368.23   58.0      8.51   7.31  0.710\n",
      "3       4  2.770000           2387.32   57.0      8.58   7.37  0.724\n",
      "4       5  2.926667           2425.52   56.0      8.72   7.49  0.736\n",
      "5       6  3.083333           2473.27   54.0      8.89   7.64  0.720\n",
      "6       7  3.240000           2501.92   53.0      8.99   7.73  0.732\n",
      "7       8  3.396667           2559.21   51.0      9.20   7.90  0.719\n",
      "8       9  3.553333           2587.86   50.0      9.30   7.99  0.726\n",
      "9      10  3.710000           2626.06   49.0      9.44   8.11  0.734\n",
      "10     11  3.866667           2664.25   48.0      9.58   8.23  0.741\n",
      "11     12  4.023333           2702.45   47.0      9.72   8.34  0.748\n",
      "12     13  4.180000           2778.85   45.0      9.99   8.58  0.729\n",
      "13     14  4.336667           2817.04   44.0     10.13   8.70  0.733\n",
      "14     15  4.493333           2864.79   43.0     10.30   8.85  0.737\n",
      "15     16  4.650000           2912.54   42.0     10.47   8.99  0.740\n",
      "16     17  4.806667           2960.28   41.0     10.64   9.14  0.743\n",
      "17     18  4.963333           3008.03   40.0     10.81   9.29  0.746\n",
      "18     19  5.120000           3065.32   39.0     11.02   9.47  0.746\n",
      "19     20  5.276667           3074.87   39.0     11.05   9.49  0.771\n",
      "20     21  5.433333           3132.17   38.0     11.26   9.67  0.771\n",
      "21     22  5.590000           3179.92   37.0     11.43   9.82  0.772\n",
      "22     23  5.746667           3237.21   36.0     11.64  10.00  0.772\n",
      "23     24  5.903333           3304.06   35.0     11.88  10.20  0.769\n",
      "24     25  6.060000           3370.90   34.0     12.12  10.41  0.767\n",
      "25     26  6.216667           3380.45   34.0     12.15  10.44  0.789\n",
      "26     27  6.373333           3437.75   33.0     12.36  10.62  0.788\n",
      "27     28  6.530000           3514.14   32.0     12.63  10.85  0.783\n",
      "28     29  6.686667           3590.54   31.0     12.91  11.09  0.778\n",
      "29     30  6.843333           3590.54   31.0     12.91  11.09  0.801\n"
     ]
    }
   ],
   "source": [
    "def make_bold(val):\n",
    "    bold = 'bold'\n",
    "    \n",
    "    return 'font-weight: %s' % bold\n",
    "\n",
    "df = pd.DataFrame(data = {'Trial': trial_array, \n",
    "                          'Distance': distance_array, \n",
    "                          'Angular Velocity': omega_array, \n",
    "                          'Angle': theta_array,\n",
    "                          'Velocity': velocity_array,\n",
    "                          'Spin': spin_array,\n",
    "                          'Time': time_array})\n",
    "print(df)\n",
    "df.to_csv(\"peak_based_\" + str(max_trials) + \"_trials.csv\")"
   ]
  },
  {
   "cell_type": "code",
   "execution_count": null,
   "metadata": {},
   "outputs": [],
   "source": []
  }
 ],
 "metadata": {
  "kernelspec": {
   "display_name": "Python 3",
   "language": "python",
   "name": "python3"
  },
  "language_info": {
   "codemirror_mode": {
    "name": "ipython",
    "version": 3
   },
   "file_extension": ".py",
   "mimetype": "text/x-python",
   "name": "python",
   "nbconvert_exporter": "python",
   "pygments_lexer": "ipython3",
   "version": "3.7.6"
  }
 },
 "nbformat": 4,
 "nbformat_minor": 4
}
