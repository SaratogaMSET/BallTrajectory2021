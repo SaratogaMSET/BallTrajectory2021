{
 "cells": [
  {
   "cell_type": "code",
   "execution_count": 28,
   "metadata": {},
   "outputs": [],
   "source": [
    "import math\n",
    "import numpy as np\n",
    "import matplotlib.pyplot as plt\n",
    "import pdb\n",
    "import pandas as pd\n",
    "\n",
    "# all units SI (meters, kg, etc.)\n",
    "distance = 7\n",
    "height = 2.495\n",
    "m = 0.141748\n",
    "R_l = 0.0508\n",
    "R_u = 0.03175\n",
    "R_b = 0.0889\n",
    "A = 0.0248286665\n",
    "interval = 0.001\n",
    "run = True"
   ]
  },
  {
   "cell_type": "markdown",
   "metadata": {},
   "source": [
    "## Create Functions"
   ]
  },
  {
   "cell_type": "code",
   "execution_count": 29,
   "metadata": {},
   "outputs": [],
   "source": [
    "def iterate():\n",
    "    global run\n",
    "    for w_r in range(30,600): #6380 falcon 500 rpm in radians/s\n",
    "        for theta in range(15,85):\n",
    "            if(run):\n",
    "                trajectory(w_r, theta*math.pi/180)\n",
    "    #print(\"done\")\n",
    "    run = True"
   ]
  },
  {
   "cell_type": "code",
   "execution_count": 30,
   "metadata": {},
   "outputs": [],
   "source": [
    "def trajectory(w, theta):\n",
    "    v = (w*R_l + 9/16*w*R_u)/2\n",
    "    #print(v)\n",
    "    s = (0.5)*(w*R_l - 9/16*w*R_u)/(2*math.pi*R_b)\n",
    "    runPath(w,v,s,theta)"
   ]
  },
  {
   "cell_type": "code",
   "execution_count": 31,
   "metadata": {},
   "outputs": [],
   "source": [
    "def runPath(w,v_i,s,theta_i):\n",
    "    t = 0\n",
    "    v_x = v_i*math.cos(theta_i)\n",
    "    v_y = v_i*math.sin(theta_i)\n",
    "    theta = theta_i\n",
    "    x_dist = 0\n",
    "    y_dist = 0\n",
    "    through = True\n",
    "    x = [0]\n",
    "    y = [0]\n",
    "    while(through):\n",
    "        x_dist += v_x*interval\n",
    "        y_dist += v_y*interval\n",
    "        x.append(x_dist)\n",
    "        y.append(y_dist)\n",
    "        v_n = math.sqrt(v_x*v_x + v_y*v_y)\n",
    "        theta = angle(v_x,v_y)\n",
    "     \n",
    "        magnus = magnusF(s, v_n)\n",
    "        drag = dragF(v_n)\n",
    "        v_x -= (magnus*math.sin(theta) + drag*math.cos(theta))*interval\n",
    "        v_y -= (drag*math.sin(theta) + 9.8 - magnus*math.cos(theta))*interval\n",
    "        t += interval\n",
    "        \n",
    "        if(v_y < 0.1 and v_y > -0.1):\n",
    "            if(((x_dist > distance - .01) and (x_dist < distance + .01)) \n",
    "            and ((y_dist > height - .015) and (y_dist < height + .015))):\n",
    "                through = False\n",
    "                global w_min\n",
    "                plt.plot(x,y)\n",
    "                omega_array.append(round(w*60/(2*math.pi),2))\n",
    "                theta_array.append(round(theta_i*180/math.pi,2))\n",
    "                velocity_array.append(round(v_i,2))\n",
    "                spin_array.append(round(s,2))\n",
    "                time_array.append(round(t,3))\n",
    "                print (\"motor_rpm: \" + str(round(w*60/(2*math.pi),2)) + \" angle: \" + str(round(theta_i*180/math.pi,2)))\n",
    "                print(\"velocity: \" + str(round(v_i,2)) + \" spin: \" + str(round(s,2)) + \" time: \" + str(round(t,3)))\n",
    "                print()\n",
    "                global run\n",
    "                run = False\n",
    "  \n",
    "        if(v_y < -0.15):\n",
    "            through = False\n",
    "      "
   ]
  },
  {
   "cell_type": "code",
   "execution_count": null,
   "metadata": {},
   "outputs": [],
   "source": [
    "def magnusF(s,v):\n",
    "    return (0.1)*(16/3)*(math.pi*math.pi)*1.229*(R_b**3)*s*v/m\n",
    "def dragF(v):\n",
    "    return (0.47)*(1.229/2)*A*(v**2)/m\n",
    "def angle(x,y):\n",
    "    return math.atan(y/x)"
   ]
  },
  {
   "cell_type": "code",
   "execution_count": null,
   "metadata": {
    "scrolled": true
   },
   "outputs": [
    {
     "name": "stdout",
     "output_type": "stream",
     "text": [
      "trial: 1 , distance: 2.3\n",
      "motor_rpm: 2301.38 angle: 61.0\n",
      "velocity: 8.27 spin: 7.11 time: 0.707\n",
      "\n",
      "trial: 2 , distance: 2.457\n",
      "motor_rpm: 2320.48 angle: 60.0\n",
      "velocity: 8.34 spin: 7.17 time: 0.722\n",
      "\n",
      "trial: 3 , distance: 2.613\n",
      "motor_rpm: 2368.23 angle: 58.0\n",
      "velocity: 8.51 spin: 7.31 time: 0.71\n",
      "\n",
      "trial: 4 , distance: 2.77\n",
      "motor_rpm: 2387.32 angle: 57.0\n",
      "velocity: 8.58 spin: 7.37 time: 0.724\n",
      "\n",
      "trial: 5 , distance: 2.927\n",
      "motor_rpm: 2425.52 angle: 56.0\n",
      "velocity: 8.72 spin: 7.49 time: 0.736\n",
      "\n",
      "trial: 6 , distance: 3.083\n",
      "motor_rpm: 2473.27 angle: 54.0\n",
      "velocity: 8.89 spin: 7.64 time: 0.72\n",
      "\n",
      "trial: 7 , distance: 3.24\n",
      "motor_rpm: 2501.92 angle: 53.0\n",
      "velocity: 8.99 spin: 7.73 time: 0.732\n",
      "\n",
      "trial: 8 , distance: 3.397\n",
      "motor_rpm: 2559.21 angle: 51.0\n",
      "velocity: 9.2 spin: 7.9 time: 0.719\n",
      "\n",
      "trial: 9 , distance: 3.553\n",
      "motor_rpm: 2587.86 angle: 50.0\n",
      "velocity: 9.3 spin: 7.99 time: 0.726\n",
      "\n",
      "trial: 10 , distance: 3.71\n",
      "motor_rpm: 2626.06 angle: 49.0\n",
      "velocity: 9.44 spin: 8.11 time: 0.734\n",
      "\n",
      "trial: 11 , distance: 3.867\n"
     ]
    }
   ],
   "source": [
    "plt.title(\"Peak-Based Ball Trajectory at Varying Distances, \\n$C_l$ = 0.1, $C_f$ = 0.47\")\n",
    "plt.xlabel(\"Distance (m)\")\n",
    "plt.ylabel(\"Height (m)\")\n",
    "\n",
    "plt.rcParams.update({'mathtext.default':  'regular' })\n",
    "\n",
    "trial_array = []\n",
    "distance_array = []\n",
    "omega_array = []\n",
    "theta_array = []\n",
    "velocity_array = []\n",
    "spin_array = []\n",
    "time_array = []\n",
    "max_trials = 30\n",
    "\n",
    "for i in range(0,max_trials):\n",
    "    trial_array.append(i+1)\n",
    "    distance = 2.3 + ((7-2.3) / max_trials)*i\n",
    "    distance_array.append(distance)\n",
    "    print(\"trial: \" + str(i+1) + \" , \" + \"distance: \" + str(round(distance,3)))\n",
    "    iterate()\n",
    "\n",
    "plt.savefig(\"peak_based_\" + str(max_trials) + \"_trials.png\")\n",
    "plt.show()"
   ]
  },
  {
   "cell_type": "code",
   "execution_count": 26,
   "metadata": {
    "scrolled": true
   },
   "outputs": [
    {
     "name": "stdout",
     "output_type": "stream",
     "text": [
      "29\n",
      "29\n",
      "29\n",
      "29\n"
     ]
    }
   ],
   "source": [
    "print(len(trial_array))\n",
    "print(len(distance_array))\n",
    "print(len(omega_array))\n",
    "print(len(theta_array))"
   ]
  },
  {
   "cell_type": "code",
   "execution_count": 25,
   "metadata": {},
   "outputs": [],
   "source": [
    "trial_array.remove(28)\n",
    "distance_array.remove(6.53)"
   ]
  },
  {
   "cell_type": "markdown",
   "metadata": {},
   "source": [
    "## Test"
   ]
  },
  {
   "cell_type": "code",
   "execution_count": 27,
   "metadata": {},
   "outputs": [
    {
     "name": "stdout",
     "output_type": "stream",
     "text": [
      "    Trial  Distance  Angular Velocity  Angle  Velocity   Spin   Time\n",
      "0       1  2.300000           2263.18   59.0      8.14  13.98  0.747\n",
      "1       2  2.456667           2291.83   57.0      8.24  14.15  0.734\n",
      "2       3  2.613333           2310.93   56.0      8.31  14.27  0.755\n",
      "3       4  2.770000           2349.13   54.0      8.45  14.51  0.741\n",
      "4       5  2.926667           2377.77   53.0      8.55  14.68  0.757\n",
      "5       6  3.083333           2406.42   52.0      8.65  14.86  0.772\n",
      "6       7  3.240000           2444.62   50.0      8.79  15.10  0.758\n",
      "7       8  3.396667           2473.27   49.0      8.89  15.27  0.771\n",
      "8       9  3.553333           2501.92   48.0      8.99  15.45  0.783\n",
      "9      10  3.710000           2549.66   46.0      9.17  15.75  0.767\n",
      "10     11  3.866667           2587.86   45.0      9.30  15.98  0.775\n",
      "11     12  4.023333           2616.51   44.0      9.41  16.16  0.785\n",
      "12     13  4.180000           2645.16   43.0      9.51  16.34  0.795\n",
      "13     14  4.336667           2683.35   42.0      9.65  16.57  0.801\n",
      "14     15  4.493333           2712.00   41.0      9.75  16.75  0.810\n",
      "15     16  4.650000           2750.20   40.0      9.89  16.98  0.816\n",
      "16     17  4.806667           2788.39   39.0     10.02  17.22  0.821\n",
      "17     18  4.963333           2826.59   38.0     10.16  17.46  0.826\n",
      "18     19  5.120000           2864.79   37.0     10.30  17.69  0.831\n",
      "19     20  5.276667           2912.54   36.0     10.47  17.99  0.833\n",
      "20     21  5.433333           2950.73   35.0     10.61  18.22  0.837\n",
      "21     22  5.590000           2998.48   34.0     10.78  18.52  0.839\n",
      "22     23  5.746667           3036.68   33.0     10.92  18.75  0.843\n",
      "23     24  5.903333           3046.23   33.0     10.95  18.81  0.870\n",
      "24     25  6.060000           3084.42   32.0     11.09  19.05  0.873\n",
      "25     26  6.216667           3132.17   31.0     11.26  19.34  0.874\n",
      "26     27  6.373333           3189.47   30.0     11.47  19.70  0.873\n",
      "27     29  6.686667           3237.21   29.0     11.64  19.99  0.901\n",
      "28     30  6.843333           3284.96   28.0     11.81  20.29  0.901\n"
     ]
    }
   ],
   "source": [
    "def make_bold(val):\n",
    "    bold = 'bold'\n",
    "    \n",
    "    return 'font-weight: %s' % bold\n",
    "\n",
    "df = pd.DataFrame(data = {'Trial': trial_array, \n",
    "                          'Distance': distance_array, \n",
    "                          'Angular Velocity': omega_array, \n",
    "                          'Angle': theta_array,\n",
    "                          'Velocity': velocity_array,\n",
    "                          'Spin': spin_array,\n",
    "                          'Time': time_array})\n",
    "print(df)\n",
    "df.to_csv(\"peak_based_\" + str(max_trials) + \"_trials.csv\")"
   ]
  },
  {
   "cell_type": "code",
   "execution_count": null,
   "metadata": {},
   "outputs": [],
   "source": []
  }
 ],
 "metadata": {
  "kernelspec": {
   "display_name": "Python 3",
   "language": "python",
   "name": "python3"
  },
  "language_info": {
   "codemirror_mode": {
    "name": "ipython",
    "version": 3
   },
   "file_extension": ".py",
   "mimetype": "text/x-python",
   "name": "python",
   "nbconvert_exporter": "python",
   "pygments_lexer": "ipython3",
   "version": "3.7.6"
  }
 },
 "nbformat": 4,
 "nbformat_minor": 4
}
