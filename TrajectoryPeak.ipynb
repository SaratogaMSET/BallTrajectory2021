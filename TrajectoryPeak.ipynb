{
 "cells": [
  {
   "cell_type": "code",
   "execution_count": 1,
   "metadata": {},
   "outputs": [],
   "source": [
    "import math\n",
    "import numpy as np\n",
    "import matplotlib.pyplot as plt\n",
    "import pdb\n",
    "import pandas as pd\n",
    "\n",
    "# all units SI (meters, kg, etc.)\n",
    "distance = 7\n",
    "height = 2.495\n",
    "m = 0.141748\n",
    "R_l = 0.0508\n",
    "R_u = 0.03175\n",
    "R_b = 0.0889\n",
    "A = 0.0248286665\n",
    "interval = 0.001\n",
    "run = True"
   ]
  },
  {
   "cell_type": "markdown",
   "metadata": {},
   "source": [
    "## Create Functions"
   ]
  },
  {
   "cell_type": "code",
   "execution_count": 2,
   "metadata": {},
   "outputs": [],
   "source": [
    "def iterate():\n",
    "    global run\n",
    "    for w_r in range(30,600): #6380 falcon 500 rpm in radians/s\n",
    "        for theta in range(15,85):\n",
    "            if(run):\n",
    "                trajectory(w_r, theta*math.pi/180)\n",
    "    #print(\"done\")\n",
    "    run = True"
   ]
  },
  {
   "cell_type": "code",
   "execution_count": 3,
   "metadata": {},
   "outputs": [],
   "source": [
    "def trajectory(w, theta):\n",
    "    v = (w*R_l + 9/16*w*R_u)/2\n",
    "    #print(v)\n",
    "    s = (w*R_l - 9/16*w*R_u)/(2*math.pi*R_b)\n",
    "    runPath(w,v,s,theta)"
   ]
  },
  {
   "cell_type": "code",
   "execution_count": 7,
   "metadata": {},
   "outputs": [],
   "source": [
    "def runPath(w,v_i,s,theta_i):\n",
    "    v_x = v_i*math.cos(theta_i)\n",
    "    v_y = v_i*math.sin(theta_i)\n",
    "    theta = theta_i\n",
    "    x_dist = 0\n",
    "    y_dist = 0\n",
    "    through = True\n",
    "    x = [0]\n",
    "    y = [0]\n",
    "    while(through):\n",
    "        x_dist += v_x*interval\n",
    "        y_dist += v_y*interval\n",
    "        x.append(x_dist)\n",
    "        y.append(y_dist)\n",
    "        v_n = math.sqrt(v_x*v_x + v_y*v_y)\n",
    "        theta = angle(v_x,v_y)\n",
    "     \n",
    "        magnus = magnusF(s, v_n)\n",
    "        drag = dragF(v_n)\n",
    "        v_x -= (magnus*math.sin(theta) + drag*math.cos(theta))*interval\n",
    "        v_y -= (drag*math.sin(theta) + 9.8 - magnus*math.cos(theta))*interval\n",
    "        \n",
    "        if(v_y < 0.1 and v_y > -0.1):\n",
    "            if(((x_dist > distance - .01) and (x_dist < distance + .01)) \n",
    "            and ((y_dist > height - .015) and (y_dist < height + .015))):\n",
    "                through = False\n",
    "                global w_min\n",
    "                plt.plot(x,y)\n",
    "                omega_array.append(round(w*60/(2*math.pi),1))\n",
    "                theta_array.append(round(theta_i*180/math.pi,1))\n",
    "                print (\"w: \" + str(w*60/(2*math.pi)) + \" a: \" + str(theta_i*180/math.pi))\n",
    "                global run\n",
    "                run = False\n",
    "  \n",
    "        if(v_y < -0.15):\n",
    "            through = False\n",
    "      "
   ]
  },
  {
   "cell_type": "code",
   "execution_count": 8,
   "metadata": {},
   "outputs": [],
   "source": [
    "def magnusF(s,v):\n",
    "    return (0.1)*(16/3)*(math.pi*math.pi)*1.225*(R_b**3)*s*v/m\n",
    "def dragF(v):\n",
    "    return (0.47)*(1.225/2)*A*(v**2)/m\n",
    "def angle(x,y):\n",
    "    return math.atan(y/x)"
   ]
  },
  {
   "cell_type": "code",
   "execution_count": null,
   "metadata": {
    "scrolled": true
   },
   "outputs": [
    {
     "name": "stdout",
     "output_type": "stream",
     "text": [
      "1 , 2.3\n"
     ]
    }
   ],
   "source": [
    "plt.title(\"Peak-Based Ball Trajectory at Varying Distances, \\n$C_l$ = 0.1, $C_f$ = 0.47\")\n",
    "plt.xlabel(\"Distance (m)\")\n",
    "plt.ylabel(\"Height (m)\")\n",
    "\n",
    "plt.rcParams.update({'mathtext.default':  'regular' })\n",
    "\n",
    "trial_array = []\n",
    "distance_array = []\n",
    "omega_array = []\n",
    "theta_array = []\n",
    "max_trials = 50\n",
    "\n",
    "for i in range(0,max_trials):\n",
    "    trial_array.append(i+1)\n",
    "    distance = 2.3 + ((7-2.3) / max_trials)*i\n",
    "    distance_array.append(distance)\n",
    "    print(str(i+1) + \" , \" + str(distance))\n",
    "    iterate()\n",
    "\n",
    "plt.savefig(\"peak_based_\" + str(max_trials) + \"_trials.png\")\n",
    "plt.show()"
   ]
  },
  {
   "cell_type": "code",
   "execution_count": 104,
   "metadata": {},
   "outputs": [
    {
     "name": "stdout",
     "output_type": "stream",
     "text": [
      "50\n",
      "50\n",
      "48\n",
      "48\n"
     ]
    }
   ],
   "source": [
    "print(len(trial_array))\n",
    "print(len(distance_array))\n",
    "print(len(omega_array))\n",
    "print(len(theta_array))"
   ]
  },
  {
   "cell_type": "code",
   "execution_count": 105,
   "metadata": {},
   "outputs": [],
   "source": [
    "# print(trial_array.pop(9), distance_array.pop(9))\n",
    "# # trial_array[6]"
   ]
  },
  {
   "cell_type": "markdown",
   "metadata": {},
   "source": [
    "## Test"
   ]
  },
  {
   "cell_type": "code",
   "execution_count": 2,
   "metadata": {},
   "outputs": [
    {
     "ename": "NameError",
     "evalue": "name 'pd' is not defined",
     "output_type": "error",
     "traceback": [
      "\u001b[0;31m---------------------------------------------------------------------------\u001b[0m",
      "\u001b[0;31mNameError\u001b[0m                                 Traceback (most recent call last)",
      "\u001b[0;32m<ipython-input-2-aa3067d68721>\u001b[0m in \u001b[0;36m<module>\u001b[0;34m\u001b[0m\n\u001b[1;32m      4\u001b[0m     \u001b[0;32mreturn\u001b[0m \u001b[0;34m'font-weight: %s'\u001b[0m \u001b[0;34m%\u001b[0m \u001b[0mbold\u001b[0m\u001b[0;34m\u001b[0m\u001b[0;34m\u001b[0m\u001b[0m\n\u001b[1;32m      5\u001b[0m \u001b[0;34m\u001b[0m\u001b[0m\n\u001b[0;32m----> 6\u001b[0;31m df = pd.DataFrame(data = {'Trial': trial_array, \n\u001b[0m\u001b[1;32m      7\u001b[0m                           \u001b[0;34m'Distance'\u001b[0m\u001b[0;34m:\u001b[0m \u001b[0mdistance_array\u001b[0m\u001b[0;34m,\u001b[0m\u001b[0;34m\u001b[0m\u001b[0;34m\u001b[0m\u001b[0m\n\u001b[1;32m      8\u001b[0m                           \u001b[0;34m'Angular Velocity'\u001b[0m\u001b[0;34m:\u001b[0m \u001b[0momega_array\u001b[0m\u001b[0;34m,\u001b[0m\u001b[0;34m\u001b[0m\u001b[0;34m\u001b[0m\u001b[0m\n",
      "\u001b[0;31mNameError\u001b[0m: name 'pd' is not defined"
     ]
    }
   ],
   "source": [
    "def make_bold(val):\n",
    "    bold = 'bold'\n",
    "    \n",
    "    return 'font-weight: %s' % bold\n",
    "\n",
    "df = pd.DataFrame(data = {'Trial': trial_array, \n",
    "                          'Distance': distance_array, \n",
    "                          'Angular Velocity': omega_array, \n",
    "                          'Angle': theta_array})\n",
    "print(df)\n",
    "df.to_csv(\"peak_based_\" + str(max_trials) + \"_trials.csv\")"
   ]
  },
  {
   "cell_type": "code",
   "execution_count": null,
   "metadata": {},
   "outputs": [],
   "source": []
  }
 ],
 "metadata": {
  "kernelspec": {
   "display_name": "Python 3",
   "language": "python",
   "name": "python3"
  },
  "language_info": {
   "codemirror_mode": {
    "name": "ipython",
    "version": 3
   },
   "file_extension": ".py",
   "mimetype": "text/x-python",
   "name": "python",
   "nbconvert_exporter": "python",
   "pygments_lexer": "ipython3",
   "version": "3.7.6"
  }
 },
 "nbformat": 4,
 "nbformat_minor": 4
}
