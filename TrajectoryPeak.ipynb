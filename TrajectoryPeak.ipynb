{
 "cells": [
  {
   "cell_type": "code",
   "execution_count": 84,
   "metadata": {},
   "outputs": [],
   "source": [
    "import math\n",
    "import numpy as np\n",
    "import matplotlib.pyplot as plt\n",
    "import pdb\n",
    "import pandas as pd\n",
    "\n",
    "# all units SI (meters, kg, etc.)\n",
    "distance = 7\n",
    "height = 2.495\n",
    "m = 0.141748\n",
    "R_l = 0.0508\n",
    "R_u = 0.03175\n",
    "R_b = 0.0889\n",
    "A = 0.0248286665\n",
    "interval = 0.001\n",
    "run = True"
   ]
  },
  {
   "cell_type": "markdown",
   "metadata": {},
   "source": [
    "## Create Functions"
   ]
  },
  {
   "cell_type": "code",
   "execution_count": 85,
   "metadata": {},
   "outputs": [],
   "source": [
    "def iterate():\n",
    "    global run\n",
    "    for w_r in range(30,600): #6380 rpm in rps\n",
    "        for theta in range(15,85):\n",
    "            if(run):\n",
    "                trajectory(w_r, theta*math.pi/180)\n",
    "    #print(\"done\")\n",
    "    run = True"
   ]
  },
  {
   "cell_type": "code",
   "execution_count": 86,
   "metadata": {},
   "outputs": [],
   "source": [
    "def trajectory(w, theta):\n",
    "    v = (w*R_l + 9/16*w*R_u)/2\n",
    "    #print(v)\n",
    "    s = (w*R_l - 9/16*w*R_u)/(2*math.pi*R_b)\n",
    "    runPath(w,v,s,theta)"
   ]
  },
  {
   "cell_type": "code",
   "execution_count": 87,
   "metadata": {},
   "outputs": [],
   "source": [
    "def runPath(w,v_i,s,theta_i):\n",
    "    #print(\"path\")\n",
    "    \n",
    "    v_x = v_i*math.cos(theta_i)\n",
    "    v_y = v_i*math.sin(theta_i)\n",
    "    theta = theta_i\n",
    "    x_dist = 0\n",
    "    y_dist = 0\n",
    "    through = True\n",
    "    x = [0]\n",
    "    y = [0]\n",
    "    while(through):\n",
    "        x_dist += v_x*interval\n",
    "        y_dist += v_y*interval\n",
    "        x.append(x_dist)\n",
    "        y.append(y_dist)\n",
    "        v_n = math.sqrt(v_x*v_x + v_y*v_y)\n",
    "        theta = angle(v_x,v_y)\n",
    "#         if(theta > 0):\n",
    "#             pdb.set_trace()\n",
    "                  \n",
    "        magnus = magnusF(s, v_n)\n",
    "        drag = dragF(v_n)\n",
    "        #if(magnus*math.sin(theta) < 0):\n",
    "            #print(magnus*math.sin(theta))\n",
    "        v_x -= (magnus*math.sin(theta) + drag*math.cos(theta))*interval\n",
    "        f_y = (drag*math.sin(theta) + 9.8 - magnus*math.cos(theta))\n",
    "        if(f_y < 0):\n",
    "            through = False\n",
    "            break\n",
    "        #v_y -= (drag*math.sin(theta) + 9.8 - magnus*math.cos(theta))*interval\n",
    "        v_y -= f_y*interval\n",
    "        if(v_y < 0.1 and v_y > -0.1):\n",
    "            if(((x_dist > distance - .01) and (x_dist < distance + .01)) and ((y_dist > height - .015) and (y_dist < height + .015))):\n",
    "                #print(\"in\")\n",
    "                through = False\n",
    "                global w_min\n",
    "                #print(w*60/(2*math.pi))\n",
    "                #print(theta_i*180/math.pi)\n",
    "                plt.plot(x,y)\n",
    "                omega_array.append(w*60/(2*math.pi))\n",
    "                theta_array.append(theta_i*180/math.pi)\n",
    "                print (\"w: \" + str(w*60/(2*math.pi)) + \" a: \" + str(theta_i*180/math.pi))\n",
    "                global run\n",
    "                run = False\n",
    "                break\n",
    "        if(v_y < -0.15):\n",
    "            through = False\n",
    "            break"
   ]
  },
  {
   "cell_type": "code",
   "execution_count": 88,
   "metadata": {},
   "outputs": [],
   "source": [
    "def magnusF(s,v):\n",
    "    return (0.1)*(16/3)*(math.pi*math.pi)*1.225*(R_b**3)*s*v/m\n",
    "def dragF(v):\n",
    "    return (0.47)*(1.225/2)*A*(v**2)/m\n",
    "def angle(x,y):\n",
    "    return math.atan(y/x)"
   ]
  },
  {
   "cell_type": "code",
   "execution_count": null,
   "metadata": {
    "scrolled": false
   },
   "outputs": [
    {
     "name": "stdout",
     "output_type": "stream",
     "text": [
      "1 , 2.3\n",
      "w: 2263.1832907667517 a: 59.0\n",
      "2 , 2.77\n",
      "w: 2349.1269600363753 a: 54.0\n",
      "3 , 3.2399999999999998\n",
      "w: 2444.6199258915126 a: 50.0\n",
      "4 , 3.71\n",
      "w: 2549.662188332163 a: 46.0\n",
      "5 , 4.18\n",
      "w: 2645.1551541873005 a: 43.0\n",
      "6 , 4.65\n",
      "w: 2750.1974166279515 a: 40.0\n",
      "7 , 5.12\n",
      "w: 2864.7889756541163 a: 37.0\n",
      "8 , 5.59\n",
      "w: 2998.479127851308 a: 34.0\n",
      "9 , 6.0600000000000005\n",
      "w: 3084.4227971209316 a: 32.0\n",
      "10 , 6.53\n"
     ]
    }
   ],
   "source": [
    "plt.title(\"Peak-Based Ball Trajectory at Varying Distances, \" + '$C_l$ = 0.1, $C_f$ = 0.47')\n",
    "plt.xlabel(\"Distance (m)\")\n",
    "plt.ylabel(\"Height (m)\")\n",
    "\n",
    "plt.rcParams.update({'mathtext.default':  'regular' })\n",
    "\n",
    "trial_array = []\n",
    "distance_array = []\n",
    "omega_array = []\n",
    "theta_array = []\n",
    "max_trials = 10\n",
    "\n",
    "for i in range(0,max_trials):\n",
    "    trial_array.append(i+1)\n",
    "    distance = 2.3 + ((7-2.3) / max_trials)*i\n",
    "    distance_array.append(distance)\n",
    "    print(str(i+1) + \" , \" + str(distance))\n",
    "    iterate()\n",
    "\n",
    "plt.savefig(\"peak_based_\" + str(max_trials) + \"_trials.png\")\n",
    "plt.show()"
   ]
  },
  {
   "cell_type": "code",
   "execution_count": 90,
   "metadata": {},
   "outputs": [
    {
     "name": "stdout",
     "output_type": "stream",
     "text": [
      "10\n",
      "10\n",
      "9\n",
      "9\n"
     ]
    }
   ],
   "source": [
    "print(len(trial_array))\n",
    "print(len(distance_array))\n",
    "print(len(omega_array))\n",
    "print(len(theta_array))"
   ]
  },
  {
   "cell_type": "code",
   "execution_count": 93,
   "metadata": {},
   "outputs": [
    {
     "name": "stdout",
     "output_type": "stream",
     "text": [
      "10 6.53\n"
     ]
    }
   ],
   "source": [
    "print(trial_array.pop(9), distance_array.pop(9))\n",
    "# trial_array[6]"
   ]
  },
  {
   "cell_type": "markdown",
   "metadata": {},
   "source": [
    "## Test"
   ]
  },
  {
   "cell_type": "code",
   "execution_count": 96,
   "metadata": {},
   "outputs": [
    {
     "name": "stdout",
     "output_type": "stream",
     "text": [
      "   Trial  Distance  Angular Velocity  Angle\n",
      "0      1      2.30       2263.183291   59.0\n",
      "1      2      2.77       2349.126960   54.0\n",
      "2      3      3.24       2444.619926   50.0\n",
      "3      4      3.71       2549.662188   46.0\n",
      "4      5      4.18       2645.155154   43.0\n",
      "5      6      4.65       2750.197417   40.0\n",
      "6      7      5.12       2864.788976   37.0\n",
      "7      8      5.59       2998.479128   34.0\n",
      "8      9      6.06       3084.422797   32.0\n"
     ]
    }
   ],
   "source": [
    "def make_bold(val):\n",
    "    bold = 'bold'\n",
    "    \n",
    "    return 'font-weight: %s' % bold\n",
    "\n",
    "df = pd.DataFrame(data = {'Trial': trial_array, \n",
    "                          'Distance': distance_array, \n",
    "                          'Angular Velocity': omega_array, \n",
    "                          'Angle': theta_array})\n",
    "print(df)\n",
    "df.to_csv(\"peak_based_\" + str(max_trials) + \"_trials.csv\")"
   ]
  }
 ],
 "metadata": {
  "kernelspec": {
   "display_name": "Python 3",
   "language": "python",
   "name": "python3"
  },
  "language_info": {
   "codemirror_mode": {
    "name": "ipython",
    "version": 3
   },
   "file_extension": ".py",
   "mimetype": "text/x-python",
   "name": "python",
   "nbconvert_exporter": "python",
   "pygments_lexer": "ipython3",
   "version": "3.7.6"
  }
 },
 "nbformat": 4,
 "nbformat_minor": 4
}
