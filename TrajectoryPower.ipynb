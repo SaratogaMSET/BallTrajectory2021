{
 "cells": [
  {
   "cell_type": "code",
   "execution_count": 1,
   "metadata": {
    "scrolled": true
   },
   "outputs": [],
   "source": [
    "import math\n",
    "import numpy as np\n",
    "import matplotlib.pyplot as plt\n",
    "import pdb\n",
    "import pandas as pd\n",
    "\n",
    "# all units SI (meters, kg, etc.)\n",
    "global distance\n",
    "distance = 7\n",
    "global height\n",
    "height = 2.286\n",
    "global m\n",
    "m = 0.141748\n",
    "global R_l\n",
    "R_l = 0.0508\n",
    "global R_u\n",
    "R_u = 0.03175\n",
    "global R_b\n",
    "R_b = 0.0889\n",
    "global A\n",
    "A = 0.0248286665\n",
    "global interval\n",
    "interval = 0.005\n",
    "global run\n",
    "run = True\n",
    "\n",
    "#not sure if global matters here"
   ]
  },
  {
   "cell_type": "code",
   "execution_count": 2,
   "metadata": {},
   "outputs": [],
   "source": [
    "def iterate():\n",
    "    global run\n",
    "    for w_r in range(30,600): #6380 rpm in rps\n",
    "        for theta in range(15,75):\n",
    "            if(run):\n",
    "                trajectory(w_r, theta*math.pi/180)\n",
    "    #print(\"done\")\n",
    "    run = True\n"
   ]
  },
  {
   "cell_type": "code",
   "execution_count": 3,
   "metadata": {},
   "outputs": [],
   "source": [
    "def trajectory(w, theta):\n",
    "    v = (w*R_l + 9/16*w*R_u)/2\n",
    "    #print(v)\n",
    "    s = (w*R_l - 9/16*w*R_u)/(2*math.pi*R_b)\n",
    "    runPath(w,v,s,theta)"
   ]
  },
  {
   "cell_type": "code",
   "execution_count": 4,
   "metadata": {},
   "outputs": [],
   "source": [
    "\n",
    "def runPath(w,v_i,s,theta_i):\n",
    "    v_x = v_i*math.cos(theta_i)\n",
    "    v_y = v_i*math.sin(theta_i)\n",
    "    theta = theta_i\n",
    "    x_dist = 0\n",
    "    y_dist = 0\n",
    "    through = True\n",
    "    x = [0]\n",
    "    y = [0]\n",
    "    while(through):\n",
    "        x_dist += v_x*interval\n",
    "        y_dist += v_y*interval\n",
    "        x.append(x_dist)\n",
    "        y.append(y_dist)\n",
    "        v_n = math.sqrt(v_x*v_x + v_y*v_y)\n",
    "        theta = angle(v_x,v_y)\n",
    " \n",
    "        magnus = magnusF(s, v_n)\n",
    "        drag = dragF(v_n)\n",
    "        \n",
    "        v_x -= (magnus*math.sin(theta) + drag*math.cos(theta))*interval\n",
    "        v_y -= (drag*math.sin(theta) + 9.8 - magnus*math.cos(theta))*interval\n",
    "        if(((x_dist > distance - .01) and (x_dist < distance + .01)) and ((y_dist > height - .01) and (y_dist < height + .01))):\n",
    "            through = False\n",
    "            global w_min\n",
    "            plt.plot(x,y)\n",
    "            omega_array.append(w*60/(2*math.pi))\n",
    "            theta_array.append(theta_i*180/math.pi)\n",
    "            print (\"w: \" + str(w*60/(2*math.pi)) + \" a: \" + str(theta_i*180/math.pi))\n",
    "            global run\n",
    "            run = False\n",
    "            \n",
    "        if(y_dist < 0 or y_dist > 3.2):\n",
    "            through = False\n",
    "            "
   ]
  },
  {
   "cell_type": "code",
   "execution_count": 5,
   "metadata": {},
   "outputs": [],
   "source": [
    "def magnusF(s,v):\n",
    "    return (0.1)*(16/3)*(math.pi*math.pi)*1.225*(R_b**3)*s*v/m\n",
    "def dragF(v):\n",
    "    return (0.47)*(1.225/2)*A*(v**2)/m\n",
    "def angle(x,y):\n",
    "    return math.atan(y/x)"
   ]
  },
  {
   "cell_type": "code",
   "execution_count": null,
   "metadata": {},
   "outputs": [
    {
     "name": "stdout",
     "output_type": "stream",
     "text": [
      "0 , 2.3\n",
      "w: 2158.1410283261007 a: 59.99999999999999\n",
      "1 , 2.3939999999999997\n",
      "w: 2177.239621497128 a: 58.0\n",
      "2 , 2.488\n",
      "w: 2186.788918082642 a: 58.0\n",
      "3 , 2.582\n",
      "w: 2205.8875112536693 a: 57.0\n",
      "4 , 2.6759999999999997\n",
      "w: 2215.436807839183 a: 57.0\n",
      "5 , 2.7699999999999996\n"
     ]
    }
   ],
   "source": [
    "plt.title(\"Power-Optimized Ball Trajectory at Varying Distances \\n$C_l$ = 0.1, $C_f$ = 0.47\")\n",
    "plt.xlabel(\"Distance (m)\")\n",
    "plt.ylabel(\"Height (m)\")\n",
    "\n",
    "plt.rcParams.update({'mathtext.default':  'regular' })\n",
    "\n",
    "trial_array = []\n",
    "distance_array = []\n",
    "omega_array = []\n",
    "theta_array = []\n",
    "max_trials = 50\n",
    "\n",
    "for i in range(0,max_trials):\n",
    "    trial_array.append(i+1)\n",
    "    distance = 2.3 + ((7-2.3) / max_trials)*i\n",
    "    distance_array.append(distance)\n",
    "    print(str(i) + \" , \" + str(distance))\n",
    "    iterate()\n",
    "    \n",
    "plt.savefig(\"power_optimized\" + str(max_trials) + \"_trials.png\")\n",
    "plt.show()"
   ]
  },
  {
   "cell_type": "code",
   "execution_count": 23,
   "metadata": {},
   "outputs": [],
   "source": [
    "def make_bold(val):\n",
    "    bold = 'bold'\n",
    "    \n",
    "    return 'font-weight: %s' % bold\n",
    "\n",
    "df = pd.DataFrame(data = {'Trial': trial_array, \n",
    "                          'Distance': distance_array, \n",
    "                          'Angular Velocity': omega_array, \n",
    "                          'Angle': theta_array})\n",
    "df.to_csv(\"power_optimized\" + str(max_trials) + \"_trials.csv\")"
   ]
  }
 ],
 "metadata": {
  "kernelspec": {
   "display_name": "Python 3",
   "language": "python",
   "name": "python3"
  },
  "language_info": {
   "codemirror_mode": {
    "name": "ipython",
    "version": 3
   },
   "file_extension": ".py",
   "mimetype": "text/x-python",
   "name": "python",
   "nbconvert_exporter": "python",
   "pygments_lexer": "ipython3",
   "version": "3.7.6"
  }
 },
 "nbformat": 4,
 "nbformat_minor": 4
}
