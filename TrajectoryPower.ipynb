{
 "cells": [
  {
   "cell_type": "code",
   "execution_count": 1,
   "metadata": {
    "scrolled": true
   },
   "outputs": [],
   "source": [
    "import math\n",
    "import numpy as np\n",
    "import matplotlib.pyplot as plt\n",
    "import pdb\n",
    "import pandas\n",
    "\n",
    "# all units SI (meters, kg, etc.)\n",
    "global distance\n",
    "distance = 7\n",
    "global height\n",
    "height = 2.286\n",
    "global m\n",
    "m = 0.141748\n",
    "global R_l\n",
    "R_l = 0.0508\n",
    "global R_u\n",
    "R_u = 0.03175\n",
    "global R_b\n",
    "R_b = 0.0889\n",
    "global A\n",
    "A = 0.0248286665\n",
    "global interval\n",
    "interval = 0.005\n",
    "global run\n",
    "run = True\n",
    "\n",
    "#not sure if global matters here"
   ]
  },
  {
   "cell_type": "code",
   "execution_count": 57,
   "metadata": {},
   "outputs": [],
   "source": [
    "def iterate():\n",
    "    global run\n",
    "    for w_r in range(30,600): #6380 rpm in rps\n",
    "        for theta in range(15,75):\n",
    "            if(run):\n",
    "                trajectory(w_r, theta*math.pi/180)\n",
    "    #print(\"done\")\n",
    "    run = True\n"
   ]
  },
  {
   "cell_type": "code",
   "execution_count": 58,
   "metadata": {},
   "outputs": [],
   "source": [
    "def trajectory(w, theta):\n",
    "    v = (w*R_l + 9/16*w*R_u)/2\n",
    "    #print(v)\n",
    "    s = (w*R_l - 9/16*w*R_u)/(2*math.pi*R_b)\n",
    "    runPath(w,v,s,theta)"
   ]
  },
  {
   "cell_type": "code",
   "execution_count": 59,
   "metadata": {},
   "outputs": [],
   "source": [
    "\n",
    "def runPath(w,v_i,s,theta_i):\n",
    "    #print(\"path\")\n",
    "    \n",
    "    v_x = v_i*math.cos(theta_i)\n",
    "    v_y = v_i*math.sin(theta_i)\n",
    "    theta = theta_i\n",
    "    x_dist = 0\n",
    "    y_dist = 0\n",
    "    through = True\n",
    "    x = [0]\n",
    "    y = [0]\n",
    "    while(through):\n",
    "        x_dist += v_x*interval\n",
    "        y_dist += v_y*interval\n",
    "        x.append(x_dist)\n",
    "        y.append(y_dist)\n",
    "        v_n = math.sqrt(v_x*v_x + v_y*v_y)\n",
    "        theta = angle(v_x,v_y)\n",
    "        #if(theta > 0):\n",
    "            #print(\"theta \" + str(theta))\n",
    "                  \n",
    "        magnus = magnusF(s, v_n)\n",
    "        drag = dragF(v_n)\n",
    "        #if(magnus*math.sin(theta) < 0):\n",
    "            #print(magnus*math.sin(theta))\n",
    "        v_x -= (magnus*math.sin(theta) + drag*math.cos(theta))*interval\n",
    "        f_y = (drag*math.sin(theta) + 9.8 - magnus*math.cos(theta))\n",
    "        if(f_y < 0):\n",
    "            through = False\n",
    "            break\n",
    "        #v_y -= (drag*math.sin(theta) + 9.8 - magnus*math.cos(theta))*interval\n",
    "        v_y -= f_y*interval\n",
    "        if(((x_dist > distance - .01) and (x_dist < distance + .01)) and ((y_dist > height - .01) and (y_dist < height + .01))):\n",
    "            #print(\"in\")\n",
    "            through = False\n",
    "            global w_min\n",
    "            #print(w*60/(2*math.pi))\n",
    "            #print(theta_i*180/math.pi)\n",
    "            plt.plot(x,y)\n",
    "            print (\"w: \" + str(w*60/(2*math.pi)) + \" a: \" + str(theta_i*180/math.pi))\n",
    "            global run\n",
    "            run = False\n",
    "            break\n",
    "        if(y_dist < 0 or y_dist > 3.2):\n",
    "            through = False\n",
    "            break"
   ]
  },
  {
   "cell_type": "code",
   "execution_count": 60,
   "metadata": {},
   "outputs": [],
   "source": [
    "def magnusF(s,v):\n",
    "    return (0.1)*(16/3)*(math.pi*math.pi)*1.225*(R_b**3)*s*v/m\n",
    "def dragF(v):\n",
    "    return (0.47)*(1.225/2)*A*(v**2)/m\n",
    "def angle(x,y):\n",
    "    return math.atan(y/x)"
   ]
  },
  {
   "cell_type": "code",
   "execution_count": 61,
   "metadata": {},
   "outputs": [
    {
     "name": "stdout",
     "output_type": "stream",
     "text": [
      "1 , 5\n",
      "w: 2606.9579678452455 a: 45.0\n",
      "2 , 8\n",
      "w: 3113.070686877473 a: 35.0\n",
      "3 , 11\n",
      "w: 3600.0848127386726 a: 27.0\n",
      "4 , 14\n",
      "w: 4134.845421527441 a: 17.0\n"
     ]
    },
    {
     "data": {
      "image/png": "[encoded data removed]",
      "text/plain": [
       "<Figure size 432x288 with 1 Axes>"
      ]
     },
     "metadata": {
      "needs_background": "light"
     },
     "output_type": "display_data"
    }
   ],
   "source": [
    "plt.title(\"Power-Optimized Ball Trajectory at Varying Distances\")\n",
    "plt.xlabel(\"Distance (m)\")\n",
    "plt.ylabel(\"Height (m)\")\n",
    "\n",
    "for i in range(1,5):\n",
    "    distance = 2 + 3*i\n",
    "    print(str(i) + \" , \" + str(distance))\n",
    "    iterate()\n",
    "plt.show()"
   ]
  },
  {
   "cell_type": "code",
   "execution_count": null,
   "metadata": {},
   "outputs": [],
   "source": [
    "trial = []\n",
    "distance = []\n",
    "omega = []\n",
    "theta = []\n",
    "\n",
    "df = pd.DataFrame(data = {'Trial': trial, 'Distance': distance, 'Angular Velocity', 'Angle'})\n",
    "df.to_csv(\"\")"
   ]
  }
 ],
 "metadata": {
  "kernelspec": {
   "display_name": "Python 3",
   "language": "python",
   "name": "python3"
  },
  "language_info": {
   "codemirror_mode": {
    "name": "ipython",
    "version": 3
   },
   "file_extension": ".py",
   "mimetype": "text/x-python",
   "name": "python",
   "nbconvert_exporter": "python",
   "pygments_lexer": "ipython3",
   "version": "3.7.6"
  }
 },
 "nbformat": 4,
 "nbformat_minor": 4
}
